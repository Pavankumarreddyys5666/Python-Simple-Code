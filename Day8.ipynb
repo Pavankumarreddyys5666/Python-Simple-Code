{
 "cells": [
  {
   "cell_type": "code",
   "execution_count": 1,
   "id": "e4cf19df-7598-472f-9f51-29523cedd6e0",
   "metadata": {},
   "outputs": [
    {
     "name": "stdout",
     "output_type": "stream",
     "text": [
      "[1, 2, 3, 4, 5, 6, 7, 8, 9]\n"
     ]
    }
   ],
   "source": [
    "#bubble sort\n",
    "\n",
    "L=[3,5,2,6,7,4,8,1,9]\n",
    "n = len(L)\n",
    "for i in range(0,len(L)):\n",
    "    for j in range(0, n-1):\n",
    "        if L[j] > L[j+1]:\n",
    "            temp = L[j]\n",
    "            L[j] = L[j+1]\n",
    "            L[j+1] = temp\n",
    "print(L)"
   ]
  },
  {
   "cell_type": "code",
   "execution_count": 4,
   "id": "af769761-f6b5-438c-98ed-8c740a5142c9",
   "metadata": {},
   "outputs": [
    {
     "name": "stdout",
     "output_type": "stream",
     "text": [
      "[1, 2, 3, 4, 5, 6, 7, 8, 9]\n"
     ]
    }
   ],
   "source": [
    "#insertion sort\n",
    "\n",
    "L = [3, 5, 2, 6, 7, 4, 8, 1, 9]\n",
    "\n",
    "for i in range(1, len(L)):\n",
    "    temp = L[i]\n",
    "    j = i - 1\n",
    "    while j >= 0 and temp < L[j]: \n",
    "        L[j + 1] = L[j]\n",
    "        j -= 1\n",
    "    L[j + 1] = temp\n",
    "\n",
    "print(L)\n"
   ]
  },
  {
   "cell_type": "code",
   "execution_count": 10,
   "id": "6786febb-a05b-48fb-8b0a-ac0b7e5a757a",
   "metadata": {},
   "outputs": [
    {
     "name": "stdout",
     "output_type": "stream",
     "text": [
      "[1, 2, 3, 4, 5, 6, 7, 8, 9]\n"
     ]
    }
   ],
   "source": [
    "#selection sort\n",
    "\n",
    "L = [3, 5, 2, 6, 7, 4, 8, 1, 9]\n",
    "\n",
    "for i in range(len(L)):\n",
    "    min_index = i\n",
    "    for j in range(i+1, len(L)):\n",
    "        if L[j] < L[min_index]:\n",
    "            min_index = j\n",
    "    temp=L[i]\n",
    "    L[i]=L[min_index]\n",
    "    L[min_index]=temp\n",
    "    \n",
    "print(L)\n"
   ]
  },
  {
   "cell_type": "code",
   "execution_count": 3,
   "id": "265d3e6e-97a9-4adc-869e-1e9a26282874",
   "metadata": {},
   "outputs": [
    {
     "name": "stdout",
     "output_type": "stream",
     "text": [
      "1\n"
     ]
    }
   ],
   "source": [
    "#selection sort to find minimum number\n",
    "\n",
    "L= [3, 5, 2, 6, 7, 4, 8, 1, 9]\n",
    "m=L[0]\n",
    "for i in range(len(L)):\n",
    "    if L[i]<m:\n",
    "      m=L[i]\n",
    "print(m)"
   ]
  },
  {
   "cell_type": "code",
   "execution_count": 7,
   "id": "7d68830b-22aa-420a-b738-8ce96336754b",
   "metadata": {},
   "outputs": [
    {
     "name": "stdout",
     "output_type": "stream",
     "text": [
      "7\n"
     ]
    }
   ],
   "source": [
    "L= [3, 5, 2, 6, 7, 4, 8, 1, 9]\n",
    "m=L[0]\n",
    "for i in range(len(L)):\n",
    "    if L[i]<m:\n",
    "      a=i\n",
    "print(a)"
   ]
  },
  {
   "cell_type": "code",
   "execution_count": 8,
   "id": "426dd39f-b4e0-4359-9512-da03821a61c4",
   "metadata": {},
   "outputs": [
    {
     "name": "stdout",
     "output_type": "stream",
     "text": [
      "7\n"
     ]
    }
   ],
   "source": [
    "L= [3, 5, 2, 6, 7, 4, 8, 1, 9]\n",
    "m=L[0]\n",
    "for i in range(len(L)):\n",
    "    if L[i]<m:\n",
    "      a=i\n",
    "print(a)\n",
    "L[i],L[0]=L[0],L[a]"
   ]
  },
  {
   "cell_type": "code",
   "execution_count": null,
   "id": "0639bcfb-ed94-4105-afc3-13fb4f6eb27d",
   "metadata": {},
   "outputs": [],
   "source": [
    "L= [3, 5, 2, 6, 7, 4, 8, 1, 9]\n",
    "for j in range(0,len(L)):\n",
    "   m=L[j]\n",
    "   for i in range(j,len(L)):\n",
    "      if L[i]<m:\n",
    "       print(j,i,a)\n",
    "       L[i],L[0]=L[0],L[a]\n",
    "       print(L)\n",
    "\n",
    "print(L)"
   ]
  },
  {
   "cell_type": "code",
   "execution_count": 10,
   "id": "19e9dd41-7e8a-4636-a6e8-1140bb685120",
   "metadata": {},
   "outputs": [
    {
     "name": "stdout",
     "output_type": "stream",
     "text": [
      "[9, 13, 21, 23, 24, 35, 43, 45, 46, 47, 48, 49, 54, 57, 65, 66, 67, 68, 73, 78, 86, 87, 89, 92, 95, 97]\n"
     ]
    },
    {
     "name": "stdin",
     "output_type": "stream",
     "text": [
      " 48\n"
     ]
    },
    {
     "name": "stdout",
     "output_type": "stream",
     "text": [
      "index of element is 10\n",
      "low 0 High 26 mid 13\n",
      "low 0 High 12 mid 6\n",
      "low 7 High 12 mid 9\n",
      "low 10 High 12 mid 11\n",
      "Enter not Found  11\n"
     ]
    }
   ],
   "source": [
    "L=[23,45,67,87,65,43,54,35,21,9,89,78,97,68,95,57,48,86,73,92,13,66,46,49,24,47]\n",
    "L.sort()\n",
    "print(L)\n",
    "low=0\n",
    "high=len(L)\n",
    "src=int(input())\n",
    "try:\n",
    "    print(\"index of element is\",L.index(src))\n",
    "except:\n",
    "    print(\"item not in list\")\n",
    "Flag=0\n",
    "while low<high:\n",
    "    mid=int(low+(high-low)/2)\n",
    "    print(\"low\",low,\"High\",high,\"mid\",mid)\n",
    "    if src<L[mid]:\n",
    "        high=mid-1\n",
    "    elif src>L[mid]:\n",
    "        low=mid+1\n",
    "    else:\n",
    "        Flag=1\n",
    "        break;\n",
    "if Flag==1:\n",
    "    print(\"Enter Found at \",mid)\n",
    "else:\n",
    "    print(\"Enter not Found \",mid)"
   ]
  },
  {
   "cell_type": "code",
   "execution_count": null,
   "id": "bbd1bcbe-1b74-4af0-9d4f-d15e24fe4b72",
   "metadata": {},
   "outputs": [],
   "source": [
    "#valid string\n",
    "s=input()\n",
    "for c in s:\n",
    "    match (c):\n",
    "        case '(':x+=1\n",
    "        case ')':x-=1\n",
    "        case '{':y+=1\n",
    "        case '}':y-=1\n",
    "        case '[':z+=1    \n",
    "        case ']':z-=1\n",
    "        case _: continue\n",
    "\n",
    "if x+y+z==0:\n",
    "    print(\"valid string\")\n",
    "else:\n",
    "    print(\"invalid string\")"
   ]
  },
  {
   "cell_type": "code",
   "execution_count": 2,
   "id": "6744d0f3-78f3-459e-aad5-46f3c2e3e9cb",
   "metadata": {},
   "outputs": [
    {
     "name": "stdin",
     "output_type": "stream",
     "text": [
      " this is (a car)\n"
     ]
    },
    {
     "name": "stdout",
     "output_type": "stream",
     "text": [
      "valid string\n"
     ]
    }
   ],
   "source": [
    "s = input()\n",
    "x = y = z = 0\n",
    "for c in s:\n",
    "    match (c):\n",
    "        case '(':\n",
    "            x += 1\n",
    "        case ')':\n",
    "            x -= 1\n",
    "        case '{':\n",
    "            y += 1\n",
    "        case '}':\n",
    "            y -= 1\n",
    "        case '[':\n",
    "            z += 1    \n",
    "        case ']':\n",
    "            z -= 1\n",
    "        case _:\n",
    "            continue\n",
    "\n",
    "if x + y + z == 0:\n",
    "    print(\"valid string\")\n",
    "else:\n",
    "    print(\"invalid string\")\n"
   ]
  },
  {
   "cell_type": "code",
   "execution_count": 8,
   "id": "e72192cb-dbda-4267-ab0a-554332069047",
   "metadata": {},
   "outputs": [
    {
     "name": "stdout",
     "output_type": "stream",
     "text": [
      "item added to stack\n",
      "item added to stack\n",
      "item added to stack\n",
      "item added to stack\n",
      "[2, 3, 5, 4]\n",
      "item removed from stack\n",
      "[2, 3, 5]\n",
      "item added to stack\n",
      "[2, 3, 5, 9]\n"
     ]
    }
   ],
   "source": [
    "#stack\n",
    "\n",
    "def add(s,E):\n",
    "    s.append(E)\n",
    "    print(\"item added to stack\")\n",
    "\n",
    "def delete(s):\n",
    "    s.pop()\n",
    "    print(\"item removed from stack\")\n",
    "\n",
    "s=[]\n",
    "add(s,2)\n",
    "add(s,3)\n",
    "add(s,5)\n",
    "add(s,4)\n",
    "print(s)\n",
    "\n",
    "delete(s)\n",
    "print(s)\n",
    "add(s,9)\n",
    "print(s)"
   ]
  },
  {
   "cell_type": "code",
   "execution_count": 18,
   "id": "99c5b7c2-8687-482e-835d-96722b78ac60",
   "metadata": {},
   "outputs": [
    {
     "name": "stdout",
     "output_type": "stream",
     "text": [
      "item  pushed into queue\n",
      "item  pushed into queue\n",
      "item  pushed into queue\n",
      "item  pushed into queue\n",
      "[2, 5, 4]\n",
      "item  pushed into queue\n",
      "[2, 5, 4, 9]\n"
     ]
    }
   ],
   "source": [
    "#Queue\n",
    "\n",
    "def push(s,E):\n",
    "    s.append(E)\n",
    "    print(\"item  pushed into queue\")\n",
    "\n",
    "def pop(s):\n",
    "    s.pop()\n",
    "    print(\"item poped out of queue\")\n",
    "\n",
    "s=[]\n",
    "push(s,2)\n",
    "push(s,3)\n",
    "push(s,5)\n",
    "push(s,4)\n",
    "\n",
    "s.pop(1)\n",
    "print(s)\n",
    "push(s,9)\n",
    "print(s)\n"
   ]
  },
  {
   "cell_type": "code",
   "execution_count": null,
   "id": "aeb52597-aef9-43ba-bb2d-dc686587ff55",
   "metadata": {},
   "outputs": [],
   "source": []
  }
 ],
 "metadata": {
  "kernelspec": {
   "display_name": "Python 3 (ipykernel)",
   "language": "python",
   "name": "python3"
  },
  "language_info": {
   "codemirror_mode": {
    "name": "ipython",
    "version": 3
   },
   "file_extension": ".py",
   "mimetype": "text/x-python",
   "name": "python",
   "nbconvert_exporter": "python",
   "pygments_lexer": "ipython3",
   "version": "3.12.3"
  }
 },
 "nbformat": 4,
 "nbformat_minor": 5
}
