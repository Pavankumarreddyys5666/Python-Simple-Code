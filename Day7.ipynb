{
 "cells": [
  {
   "cell_type": "code",
   "execution_count": null,
   "id": "e8b7d9d3-1006-4540-b376-84f378e45791",
   "metadata": {},
   "outputs": [],
   "source": [
    "#find the maximum sum of three consecutive elements of the array.\n",
    "\n",
    "L=[2,4,6,1,3,7,4,6,9,3,6,8,3,6,4,1,3,9,6,4,5,6,8,3,7,3,6,8]\n",
    "max=0  \n",
    "for i in range (0,len(L)-2):\n",
    "    sum = L[i] + L[i + 1] + L[i + 2]\n",
    "    if sum > max:\n",
    "        max = sum\n",
    "\n",
    "print(\"Maximum sum of three consecutive elements:\", max_sum)\n",
    "\n",
    "   "
   ]
  },
  {
   "cell_type": "code",
   "execution_count": null,
   "id": "df21186a-22ef-48c9-9ffa-4c39219915f5",
   "metadata": {},
   "outputs": [],
   "source": [
    "#find the maximum sum of 2/3/4 consecutive elements by taking user input.\n",
    "\n",
    "L=[2,4,6,1,3,7,4,6,9,3,6,8,3,6,4,1,3,9,6,4,5,6,8,3,7,3,6,8]\n",
    "n=int(input(\"enter the number of consecutive elements: \"))\n",
    "max=0  \n",
    "for i in range (0,len(L)-2):\n",
    "      sum = L[i] + L[i + 1] + L[i + 2]\n",
    "    if sum > max:\n",
    "        max = sum\n",
    "print(\"Maximum sum of three consecutive elements:\", max_sum)"
   ]
  },
  {
   "cell_type": "code",
   "execution_count": null,
   "id": "b99c7716-79f1-4ea4-8457-c53bc84a210c",
   "metadata": {},
   "outputs": [],
   "source": [
    "def max_sum_consecutive_elements(lst, num_consecutive):\n",
    "    max_sum = float('-inf')\n",
    "\n",
    "    for i in range(len(lst) - num_consecutive + 1):\n",
    "        current_sum = sum(lst[i:i+num_consecutive])\n",
    "        max_sum = max(max_sum, current_sum)\n",
    "\n",
    "    return max_sum\n",
    "\n",
    "L = [2, 4, 6, 1, 3, 7, 4, 6, 9, 3, 6, 8, 3, 6, 4, 1, 3, 9, 6, 4, 5, 6, 8, 3, 7, 3, 6, 8]\n",
    "\n",
    "num = int(input(\"Enter the number of consecutive elements (2, 3, or 4): \"))\n",
    "\n",
    "print(\"Maximum sum of\", num, \"consecutive elements:\", max_sum_consecutive_elements(L, num))\n"
   ]
  },
  {
   "cell_type": "code",
   "execution_count": null,
   "id": "bddb96c9-3df9-424e-877b-c29ecd61e27d",
   "metadata": {},
   "outputs": [],
   "source": [
    "L = [2, 4, 6, 1, 3, 7, 4, 6, 9, 3, 6, 8, 3, 6, 4, 1, 3, 9, 6, 4, 5, 6, 8, 3, 7, 3, 6, 8]\n",
    "\n",
    "num = int(input(\"Enter the number of consecutive elements (2, 3, or 4): \"))\n",
    "\n",
    "for i in range(len(L) - num + 1):\n",
    "    current_sum = sum(L[i:i+num])\n",
    "    max_sum = max(max_sum, current_sum)\n",
    "print(\"Maximum sum of\", num, \"consecutive elements:\", max_sum)\n"
   ]
  },
  {
   "cell_type": "code",
   "execution_count": null,
   "id": "259be5c5-3bd3-4128-b7c4-896d9e9dab4c",
   "metadata": {},
   "outputs": [],
   "source": [
    "L = [2, 4, 6, 1, 3, 7, 4, 6, 9, 3, 6, 8, 3, 6, 4, 1, 3, 9, 6, 4, 5, 6, 8, 3, 7, 3, 6, 8]\n",
    "\n",
    "num = int(input(\"Enter the number of consecutive elements (2, 3, or 4): \"))\n",
    "for i in range(len(L) - num + 1):\n",
    "    current_sum = sum(L[i:i+num])\n",
    "    max_sum = max(max_sum, current_sum)\n",
    "print(\"Maximum sum of\", num, \"consecutive elements:\", max_sum)\n"
   ]
  },
  {
   "cell_type": "code",
   "execution_count": null,
   "id": "05a85118-db14-413e-a5da-cc52b1e83a09",
   "metadata": {},
   "outputs": [],
   "source": [
    "L = [2, 4, 6, 1, 3, 7, 4, 6, 9, 3, 6, 8, 3, 6, 4, 1, 3, 9, 6, 4, 5, 6, 8, 3, 7, 3, 6, 8]\n",
    "\n",
    "num = int(input(\"Enter the number of consecutive elements (2, 3, or 4): \"))\n",
    "\n",
    "max_sum = float('-inf')\n",
    "\n",
    "for i in range(len(L) - num + 1):\n",
    "    current_sum = sum(L[i:i+num])\n",
    "    max_sum = max(max_sum, current_sum)\n",
    "print(\"Maximum sum of\", num, \"consecutive elements:\", max_sum)\n"
   ]
  },
  {
   "cell_type": "code",
   "execution_count": null,
   "id": "8903af19-69b8-4906-9603-a3b8f1c55ef5",
   "metadata": {},
   "outputs": [],
   "source": [
    "L = [2, 4, 6, 1, 3, 7, 4, 6, 9, 3, 6, 8, 3, 6, 4, 1, 3, 9, 6, 4, 5, 6, 8, 3, 7, 3, 6, 8]\n",
    "\n",
    "num = int(input(\"Enter the number of consecutive elements (2, 3, or 4): \"))\n",
    "\n",
    "max_sum = float('-inf')\n",
    "\n",
    "for i in range(len(L) - num + 1):\n",
    "    current_sum = sum(L[i:i+num])\n",
    "    max_sum = max(max_sum, current_sum)\n",
    "print(\"Maximum sum of\", num, \"consecutive elements:\", max_sum)\n"
   ]
  },
  {
   "cell_type": "code",
   "execution_count": null,
   "id": "86058921-4646-46ae-8df3-7655ee40f1fb",
   "metadata": {},
   "outputs": [],
   "source": [
    "L = [2, 4, 6, 1, 3, 7, 4, 6, 9, 3, 6, 8, 3, 6, 4, 1, 3, 9, 6, 4, 5, 6, 8, 3, 7, 3, 6, 8,2, 4, 6, 1,\n",
    "     3, 7, 4, 6, 9, 3, 6, 8, 3, 6, 4, 1, 3, 9, 6, 4, 5, 6, 8, 3, 7, 3,2, 4, 6, 1, 3, 7, 4, 6, 9,\n",
    "     3, 6, 8, 3,6, 4, 1, 3, 9, 6, 4, 5, 6, 8, 3, 7, 3,]\n",
    "\n",
    "max=0\n",
    "con=int(input(\"enter consecutive number:\"))          explanation\n",
    "\n",
    "for x in range(0,len(L)-con-1):                      x  j  s\n",
    "    s=0                                              0  0  0\n",
    "    for j in range(0,con):\n",
    "        s=s+L[x+j]                                    x  j  s\n",
    "    if max<s:                                         1  0  0\n",
    "        max=s\n",
    "print(max)"
   ]
  },
  {
   "cell_type": "code",
   "execution_count": null,
   "id": "497d1d6c-797a-4018-8b97-89408e375562",
   "metadata": {},
   "outputs": [],
   "source": [
    "L = [2, 4, 6, 1, 3, 7, 4, 6, 9, 3, 6, 8, 3, 6, 4, 1, 3, 9, 6, 4, 5, 6, 8, 3, 7, 3, 6, 8,2, 4, 6, 1,\n",
    "     3, 7, 4, 6, 9, 3, 6, 8, 3, 6, 4, 1, 3, 9, 6, 4, 5, 6, 8, 3, 7, 3,2, 4, 6, 1, 3, 7, 4, 6, 9,\n",
    "     3, 6, 8, 3,6, 4, 1, 3, 9, 6, 4, 5, 6, 8, 3, 7, 3,]\n",
    "\n",
    "max=0\n",
    "con=int(input(\"enter consecutive number:\"))          \n",
    "\n",
    "for x in range(0, len(L) - con + 1, con):\n",
    "    print(L[x:x+con])          \n",
    "    \n",
    "    s=0                                             \n",
    "    s=s+L[x+j]                                 \n",
    "    if max<s:                                     \n",
    "        max=s\n",
    "print(max)"
   ]
  },
  {
   "cell_type": "code",
   "execution_count": null,
   "id": "8061b7f3-5e05-4b72-ad7d-ea7b41c0be37",
   "metadata": {},
   "outputs": [],
   "source": [
    "L=[3,5,2,6,7,4,8,1,9]\n",
    "n = len(L)\n",
    "for i in range(n):\n",
    "    for j in range(0, n-i-1):\n",
    "        if L[j] > L[j+1]:\n",
    "            temp = L[j]\n",
    "            L[j] = L[j+1]\n",
    "            L[j+1] = temp\n",
    "print(\"Sorted list:\",L)"
   ]
  }
 ],
 "metadata": {
  "kernelspec": {
   "display_name": "Python 3 (ipykernel)",
   "language": "python",
   "name": "python3"
  },
  "language_info": {
   "codemirror_mode": {
    "name": "ipython",
    "version": 3
   },
   "file_extension": ".py",
   "mimetype": "text/x-python",
   "name": "python",
   "nbconvert_exporter": "python",
   "pygments_lexer": "ipython3",
   "version": "3.12.3"
  }
 },
 "nbformat": 4,
 "nbformat_minor": 5
}
