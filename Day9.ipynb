{
 "cells": [
  {
   "cell_type": "code",
   "execution_count": 14,
   "id": "f37884bc-393f-4a1a-bada-78befb0e829f",
   "metadata": {},
   "outputs": [
    {
     "name": "stdin",
     "output_type": "stream",
     "text": [
      " this is a car\n"
     ]
    },
    {
     "name": "stdout",
     "output_type": "stream",
     "text": [
      "rac a si siht"
     ]
    }
   ],
   "source": [
    "#reverse a string using stack\n",
    "\n",
    "a=input()\n",
    "s=[]\n",
    "for e in a:\n",
    "    s.append(e)\n",
    "\n",
    "while len(s)>0:\n",
    "    print(s.pop(),end=\"\")"
   ]
  },
  {
   "cell_type": "code",
   "execution_count": 15,
   "id": "61cc6b21-6c93-42ec-bd28-c832026766b6",
   "metadata": {},
   "outputs": [
    {
     "name": "stdin",
     "output_type": "stream",
     "text": [
      " this is a car\n"
     ]
    },
    {
     "name": "stdout",
     "output_type": "stream",
     "text": [
      "car a is this "
     ]
    }
   ],
   "source": [
    "a=input()\n",
    "s=[]\n",
    "for e in a.split():\n",
    "    s.append(e)\n",
    "\n",
    "while len(s)>0:\n",
    "    print(s.pop(),end=' ')"
   ]
  },
  {
   "cell_type": "code",
   "execution_count": 29,
   "id": "b8280f4b-0f82-4c93-8891-b818f89071e6",
   "metadata": {},
   "outputs": [
    {
     "name": "stdin",
     "output_type": "stream",
     "text": [
      " (a+b)*c\n"
     ]
    },
    {
     "name": "stdout",
     "output_type": "stream",
     "text": [
      " ab+c*\n"
     ]
    }
   ],
   "source": [
    "#infix to postfix\n",
    "\n",
    "def prec(op):\n",
    "    if op == '+' or op == '-':\n",
    "        return 1\n",
    "    elif op == '*' or op == '/':\n",
    "        return 2\n",
    "    return 0\n",
    "\n",
    "def assoc(op):\n",
    "    if op == '+' or op == '-' or op == '*' or op == '/':\n",
    "        return 'L'\n",
    "    return 'N'\n",
    "\n",
    "exp = input()\n",
    "s = []\n",
    "result = \" \"\n",
    "for e in exp:\n",
    "    if e.isalnum():\n",
    "        result += e\n",
    "    elif e == '(':\n",
    "        s.append(e)\n",
    "    elif e == ')':\n",
    "        while s[-1] != '(':\n",
    "            result += s.pop()\n",
    "        s.pop()  # Discard '('\n",
    "    else:\n",
    "        while s and (prec(e) < prec(s[-1]) or \n",
    "                     (prec(e) == prec(s[-1]) and assoc(e) == 'L')):\n",
    "            result += s.pop()\n",
    "        s.append(e)\n",
    "\n",
    "while s:\n",
    "    result += s.pop()\n",
    "\n",
    "print(result)\n"
   ]
  },
  {
   "cell_type": "markdown",
   "id": "b5c75f99-382f-466f-a226-f39caa2afc2c",
   "metadata": {},
   "source": [
    "in a arcade game,there is a king who got spelled  by a witch that whenever he eat he has to take care of what is sequence of his food intake.if he eats similar food one after the other it will cancel out its effect and total energy was decreased.\n",
    "your task is to determine total energy of the king after his meal.\n",
    "consider that energy released by each item will be same which is 1 unit.\n",
    "write a code to find the energy stored by the king after having all the food.\n",
    "take food items as:apple,dal,chapati,rice.\n"
   ]
  },
  {
   "cell_type": "code",
   "execution_count": null,
   "id": "0cf4fa5e-1904-42a2-a79a-9828ebc1bf53",
   "metadata": {},
   "outputs": [],
   "source": [
    "a=[item for item in input().split]\n",
    "print(a)\n",
    "s=[]\n",
    "for item in a:\n",
    "    if not s: \n",
    "        s.append(item)\n",
    "    elif s[-1]==item:\n",
    "        s.pop()\n",
    "    else:\n",
    "        s.append(item)\n",
    "print(len(s),s)"
   ]
  },
  {
   "cell_type": "code",
   "execution_count": 24,
   "id": "06f6b09a-1793-4aa1-b6d5-b13272d4eb25",
   "metadata": {},
   "outputs": [
    {
     "name": "stdin",
     "output_type": "stream",
     "text": [
      " ({)}\n"
     ]
    },
    {
     "name": "stdout",
     "output_type": "stream",
     "text": [
      "valid\n"
     ]
    }
   ],
   "source": [
    "s = input()\n",
    "s=[]\n",
    "for e in s:\n",
    "\n",
    "   if e == '(' or e=='{' or e== '[':\n",
    "        s.append(e)\n",
    "   elif (e == ')'  and s[-1]=='(') or (e == '}' and s[-1]=='{')  or (e == ']' and s[-1]=='['):\n",
    "          s.pop()\n",
    "   else:\n",
    "       continue\n",
    "\n",
    "if not s:\n",
    "    print(\"valid\")\n",
    "else:\n",
    "    print(\"invalid\")"
   ]
  },
  {
   "cell_type": "code",
   "execution_count": null,
   "id": "b16bfedf-0f5f-4388-ac6c-54a92f7b5703",
   "metadata": {},
   "outputs": [],
   "source": [
    "#recursion\n",
    "\n"
   ]
  }
 ],
 "metadata": {
  "kernelspec": {
   "display_name": "Python 3 (ipykernel)",
   "language": "python",
   "name": "python3"
  },
  "language_info": {
   "codemirror_mode": {
    "name": "ipython",
    "version": 3
   },
   "file_extension": ".py",
   "mimetype": "text/x-python",
   "name": "python",
   "nbconvert_exporter": "python",
   "pygments_lexer": "ipython3",
   "version": "3.12.3"
  }
 },
 "nbformat": 4,
 "nbformat_minor": 5
}
