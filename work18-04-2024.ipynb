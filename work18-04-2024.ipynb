{
 "cells": [
  {
   "cell_type": "code",
   "execution_count": null,
   "id": "0a353996-ea81-4001-acb9-95de5441800a",
   "metadata": {},
   "outputs": [],
   "source": [
    "celsius_temperature = float(input(\"Enter temperature in Celsius: \"))\n",
    "fahrenheit_temperature = (celsius_temperature * 9/5) + 32\n",
    "print(\"the present temperature in fahrenheit is: \",fahrenheit_temperature)"
   ]
  },
  {
   "cell_type": "code",
   "execution_count": null,
   "id": "f991195f-bc52-4e2e-8d18-644a8de3f7ce",
   "metadata": {},
   "outputs": [],
   "source": [
    "a = [10, 5, 8, 20, 15]\n",
    "largest = int(input())\n",
    "second_largest = int(input())\n",
    "for x in a:\n",
    "    if x > largest:\n",
    "        second_largest = largest\n",
    "        largest = x\n",
    "    elif x > second_largest and x != largest:\n",
    "        second_largest = x\n",
    "print(\"Second largest element:\", second_largest)\n"
   ]
  },
  {
   "cell_type": "code",
   "execution_count": null,
   "id": "ccd04939-2081-4847-9370-a542f671e730",
   "metadata": {},
   "outputs": [],
   "source": [
    "#Count the occurrences of each element in a list.\n",
    "    \n",
    "a = [1, 2, 3, 1, 2, 1, 3, 4, 5, 4]\n",
    "b = {}\n",
    "for x in a:\n",
    "       if x in b:\n",
    "             b[element] += 1\n",
    "       else:\n",
    "           b[element] = 1\n",
    "for x, count in b.items():\n",
    "    print(\"the number of times each element occured is: \")\n",
    "    print(b)\n"
   ]
  },
  {
   "cell_type": "code",
   "execution_count": null,
   "id": "ea71da22-8994-4ff3-854a-af4d7c976562",
   "metadata": {},
   "outputs": [],
   "source": [
    "#Find the sum of all even numbers in a list.\n",
    "\n",
    "a = [1, 2, 3, 4, 5, 6, 7, 8, 9, 10]\n",
    "even_sum = 0\n",
    "for x in a:\n",
    "    if x % 2 == 0:\n",
    "        even_sum += x\n",
    "print(\"Sum of even numbers:\", even_sum)"
   ]
  },
  {
   "cell_type": "code",
   "execution_count": null,
   "id": "766fefbb-73d9-4ad0-971d-4cb50d786688",
   "metadata": {},
   "outputs": [],
   "source": [
    "#Count the number of vowels in a string.\n",
    "\n",
    "my_string = \"Hello, World!\"\n",
    "my_string = my_string.lower()\n",
    "vowel_count = 0\n",
    "vowels = {'a', 'e', 'i', 'o', 'u'}\n",
    "for char in my_string:\n",
    "    if char in vowels:\n",
    "        vowel_count += 1\n",
    "print(\"Number of vowels in the string:\", vowel_count)"
   ]
  },
  {
   "cell_type": "code",
   "execution_count": null,
   "id": "2ea3b8e1-0e52-4e29-9670-b144dc405af9",
   "metadata": {},
   "outputs": [],
   "source": [
    "#Reverse the words in a given sentence.\n",
    "\n",
    "sentence = \"Hello , how do you do?\"\n",
    "words = sentence.split()\n",
    "reversed_sentence = ' '.join(reversed(words))\n",
    "print(\"Reversed sentence:\", reversed_sentence)"
   ]
  },
  {
   "cell_type": "code",
   "execution_count": null,
   "id": "0eaae1e9-0de3-4407-bbc3-10b73e618ecb",
   "metadata": {},
   "outputs": [],
   "source": [
    "\n",
    "fruits = []  # Empty list to store fruits\n",
    "while True:\n",
    "    fruit_name = input(\"Enter a fruit name (or 'q' to quit): \").lower()\n",
    "    if fruit_name == 'q':\n",
    "        break\n",
    "    fruits.append(fruit_name)\n",
    "with open(\"Fruits.txt\", \"a\") as fruits_file:\n",
    "    for fruit in fruits:\n",
    "        fruits_file.write(fruit + \"\\n\")  # Write each fruit with a newline\n",
    "old_fruit = input(\"Enter the fruit name to replace: \").lower()\n",
    "new_fruit = input(\"Enter the new fruit name: \").lower()\n",
    "new_fruits = []\n",
    "with open(\"Fruits.txt\", \"r\") as fruits_file:\n",
    "    for line in fruits_file:\n",
    "        new_fruits.append(line.strip())  # Remove trailing newline\n",
    "updated_fruits = [new_fruit if fruit == old_fruit else fruit for fruit in new_fruits]\n",
    "with open(\"Fruits.txt\", \"w\") as fruits_file:\n",
    "    for fruit in updated_fruits:\n",
    "        fruits_file.write(fruit + \"\\n\")  # Write each updated fruit with a newline\n",
    "\n",
    "print(\"Fruits list updated successfully!\")"
   ]
  },
  {
   "cell_type": "code",
   "execution_count": null,
   "id": "4063e689-5e8f-43ef-bc0b-b332d0f16344",
   "metadata": {},
   "outputs": [],
   "source": []
  }
 ],
 "metadata": {
  "kernelspec": {
   "display_name": "Python 3 (ipykernel)",
   "language": "python",
   "name": "python3"
  },
  "language_info": {
   "codemirror_mode": {
    "name": "ipython",
    "version": 3
   },
   "file_extension": ".py",
   "mimetype": "text/x-python",
   "name": "python",
   "nbconvert_exporter": "python",
   "pygments_lexer": "ipython3",
   "version": "3.12.3"
  }
 },
 "nbformat": 4,
 "nbformat_minor": 5
}
