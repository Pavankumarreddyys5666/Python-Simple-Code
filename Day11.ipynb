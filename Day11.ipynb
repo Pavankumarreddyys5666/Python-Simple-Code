{
 "cells": [
  {
   "cell_type": "code",
   "execution_count": 12,
   "id": "c7263de2-192c-4b8c-ab94-6ad1e838fe5e",
   "metadata": {},
   "outputs": [
    {
     "name": "stdout",
     "output_type": "stream",
     "text": [
      "1 --> 2 --> 3 --> 4 --> 5 -->\n"
     ]
    }
   ],
   "source": [
    "class node:\n",
    "    def __init__(self,data):\n",
    "        self.data=value\n",
    "        self.next=None\n",
    "\n",
    "Head=node(1)\n",
    "Head.next=node(2)\n",
    "Head.next.next=node(3)\n",
    "Head.next.next.next=node(4)\n",
    "Head.next.next.next.next=node(5)\n",
    "\n",
    "print(Head.data,\"-->\",\n",
    "Head.next.data,\"-->\",\n",
    "Head.next.next.data,\"-->\",\n",
    "Head.next.next.next.data,\"-->\",\n",
    "Head.next.next.next.next.data,\"-->\",)\n"
   ]
  },
  {
   "cell_type": "code",
   "execution_count": null,
   "id": "0dd11f65-23c8-42d7-9b32-3d7be60f6f83",
   "metadata": {},
   "outputs": [],
   "source": [
    "X=int(input())\n",
    "temp=node(X)\n",
    "curr=Head\n",
    "\n",
    "if curr==None:\n",
    "    Head=temp\n",
    "else:\n",
    "    while curr.next!=None:\n",
    "        curr=curr.next\n",
    "    curr.next =temp\n"
   ]
  },
  {
   "cell_type": "code",
   "execution_count": null,
   "id": "150b68e6-f58b-4b72-904b-f371b760bce6",
   "metadata": {},
   "outputs": [],
   "source": [
    "curr=Head\n",
    "\n",
    "while curr !=None:\n",
    "    print(curr.data,\"-->\",end=\" \")\n",
    "    curr=curr.next"
   ]
  },
  {
   "cell_type": "code",
   "execution_count": null,
   "id": "a01fa9c7-66d7-4d07-850f-60e92cd85337",
   "metadata": {},
   "outputs": [],
   "source": [
    "L=int(input(\"Enter the location value: \"))\n",
    "X=int(input(\"Enter the value: \"))\n",
    "curr = Head\n",
    "while curr !=None:\n",
    "    if(curr.data==L):\n",
    "        break\n",
    "    curr=curr.next\n",
    "\n",
    "temp=node(X)\n",
    "temp.next=curr.next\n",
    "curr.next=temp"
   ]
  },
  {
   "cell_type": "code",
   "execution_count": null,
   "id": "263b7ad4-b9cb-4599-844b-bf50a83dfb50",
   "metadata": {},
   "outputs": [],
   "source": [
    "x = int(input())\n",
    "temp = node(x)\n",
    "curr = Head\n",
    "\n",
    "if curr is None:\n",
    "    Head = temp\n",
    "else:\n",
    "    while curr.next is not None:\n",
    "        curr = curr.next\n",
    "    curr.next = temp\n"
   ]
  },
  {
   "cell_type": "code",
   "execution_count": 4,
   "id": "b292c2ac-8b44-4cb8-b908-66a278b73eee",
   "metadata": {},
   "outputs": [
    {
     "name": "stdout",
     "output_type": "stream",
     "text": [
      "1\n",
      "2\n",
      "4\n",
      "5\n",
      "3\n",
      "6\n",
      "7\n"
     ]
    }
   ],
   "source": [
    "#Trees\n",
    "\n",
    "\n",
    "class node:\n",
    "    def __init__(self,value):\n",
    "        self.data =value\n",
    "        self.left=None\n",
    "        self.right=None\n",
    "\n",
    "def preorder(root):\n",
    "   if root==None:\n",
    "       return\n",
    "   print(root.data)\n",
    "   preorder(root.left)\n",
    "   preorder(root.right)\n",
    "\n",
    " \n",
    "root=node(1)\n",
    "root.left=node(2)\n",
    "root.right=node(3)\n",
    "\n",
    "root.left.left=node(4)\n",
    "root.left.right=node(5)\n",
    "\n",
    "root.right.left=node(6)\n",
    "root.right.right=node(7)\n",
    "\n",
    "preorder(root)"
   ]
  },
  {
   "cell_type": "code",
   "execution_count": 5,
   "id": "94a83eb7-b799-4e96-9d6f-160063069c61",
   "metadata": {},
   "outputs": [
    {
     "name": "stdout",
     "output_type": "stream",
     "text": [
      "4\n",
      "5\n",
      "2\n",
      "6\n",
      "7\n",
      "3\n",
      "1\n"
     ]
    }
   ],
   "source": [
    "def postorder(root):\n",
    "   if root==None:\n",
    "       return\n",
    "   postorder(root.left)\n",
    "   postorder(root.right)\n",
    "   print(root.data)\n",
    "\n",
    " \n",
    "root=node(1)\n",
    "root.left=node(2)\n",
    "root.right=node(3)\n",
    "\n",
    "root.left.left=node(4)\n",
    "root.left.right=node(5)\n",
    "\n",
    "root.right.left=node(6)\n",
    "root.right.right=node(7)\n",
    "\n",
    "postorder(root)"
   ]
  },
  {
   "cell_type": "code",
   "execution_count": 6,
   "id": "72710272-949f-4346-88a8-e48936688239",
   "metadata": {},
   "outputs": [
    {
     "name": "stdout",
     "output_type": "stream",
     "text": [
      "4\n",
      "2\n",
      "5\n",
      "1\n",
      "6\n",
      "3\n",
      "7\n"
     ]
    }
   ],
   "source": [
    "def inorder(root):\n",
    "   if root==None:\n",
    "       return\n",
    "   inorder(root.left)\n",
    "   print(root.data)\n",
    "   inorder(root.right)\n",
    "  \n",
    " \n",
    "root=node(1)\n",
    "root.left=node(2)\n",
    "root.right=node(3)\n",
    "\n",
    "root.left.left=node(4)\n",
    "root.left.right=node(5)\n",
    "\n",
    "root.right.left=node(6)\n",
    "root.right.right=node(7)\n",
    "\n",
    "inorder(root)"
   ]
  },
  {
   "cell_type": "code",
   "execution_count": 10,
   "id": "1ed06417-1ddd-407d-9165-e8a59f119ac6",
   "metadata": {},
   "outputs": [
    {
     "name": "stdout",
     "output_type": "stream",
     "text": [
      "1\n",
      "\n",
      "2\n",
      "3\n",
      "\n",
      "4\n",
      "5\n",
      "6\n",
      "7\n",
      "\n"
     ]
    }
   ],
   "source": [
    "#level ordeer traversal\n",
    "\n",
    "#use Queue data structure\n",
    "\n",
    "def levelorder(root):\n",
    "    Q=[root,None]\n",
    "    while Q:\n",
    "         curr=Q.pop(0)\n",
    "         if curr==None:\n",
    "             print()\n",
    "             if Q:\n",
    "                 Q.append(curr)\n",
    "         else:\n",
    "             print(curr.data)\n",
    "             if curr.left!=None:\n",
    "                 Q.append(curr.left)\n",
    "             if curr.right!=None:\n",
    "                 Q.append(curr.right)\n",
    "\n",
    "root=node(1)\n",
    "root.left=node(2)\n",
    "root.right=node(3)\n",
    "\n",
    "root.left.left=node(4)\n",
    "root.left.right=node(5)\n",
    "\n",
    "root.right.left=node(6)\n",
    "root.right.right=node(7)\n",
    "\n",
    "levelorder(root)"
   ]
  },
  {
   "cell_type": "code",
   "execution_count": null,
   "id": "9b183073-b7fd-42c0-85f6-af143629b326",
   "metadata": {},
   "outputs": [],
   "source": []
  }
 ],
 "metadata": {
  "kernelspec": {
   "display_name": "Python 3 (ipykernel)",
   "language": "python",
   "name": "python3"
  },
  "language_info": {
   "codemirror_mode": {
    "name": "ipython",
    "version": 3
   },
   "file_extension": ".py",
   "mimetype": "text/x-python",
   "name": "python",
   "nbconvert_exporter": "python",
   "pygments_lexer": "ipython3",
   "version": "3.12.3"
  }
 },
 "nbformat": 4,
 "nbformat_minor": 5
}
