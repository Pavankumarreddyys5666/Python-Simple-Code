{
 "cells": [
  {
   "cell_type": "code",
   "execution_count": 1,
   "id": "df55fc63-6650-4886-a277-73f6eca122fb",
   "metadata": {},
   "outputs": [
    {
     "name": "stdout",
     "output_type": "stream",
     "text": [
      "2\n",
      "4\n",
      "6\n",
      "8\n",
      "10\n",
      "12\n",
      "14\n",
      "16\n",
      "18\n",
      "20\n"
     ]
    }
   ],
   "source": [
    "#recursion                      #initialization-->i=1\n",
    "                                #condition-->range<11\n",
    "#print table of 2               #updation-->i=i+1\n",
    "                                #statement-->print(i*2)\n",
    "for i in range(1,11):         \n",
    "    print(i*2)                 \n",
    "                               "
   ]
  },
  {
   "cell_type": "code",
   "execution_count": 12,
   "id": "180ebc41-6b30-4783-a6e6-a350f2cb3f6f",
   "metadata": {},
   "outputs": [
    {
     "name": "stdout",
     "output_type": "stream",
     "text": [
      "2\n",
      "4\n",
      "6\n",
      "8\n",
      "10\n",
      "12\n",
      "14\n",
      "16\n",
      "18\n",
      "20\n",
      "10\n"
     ]
    }
   ],
   "source": [
    "def fun(i):\n",
    "   if i ==11:\n",
    "      return\n",
    "   print(i*2)\n",
    "   i=i+1\n",
    "   fun(i)\n",
    "   return\n",
    "fun(1)\n",
    "print(i)"
   ]
  },
  {
   "cell_type": "code",
   "execution_count": null,
   "id": "8dc05e50-38d8-4922-ad66-387657e0a68d",
   "metadata": {},
   "outputs": [],
   "source": [
    "#factorial of a number using recursion\n",
    "\n",
    "n=int(input(\"enter the element\"))\n",
    "if n==0 or n==1:\n",
    "   return \n",
    "else:\n",
    "    return(n*(n-1))"
   ]
  },
  {
   "cell_type": "code",
   "execution_count": 40,
   "id": "a9616198-df58-41bc-ae6c-7822aebf1413",
   "metadata": {},
   "outputs": [
    {
     "name": "stdin",
     "output_type": "stream",
     "text": [
      "Enter a  number:  4\n"
     ]
    },
    {
     "name": "stdout",
     "output_type": "stream",
     "text": [
      "24\n"
     ]
    }
   ],
   "source": [
    "fact = 1                                          #initialization-->i=1\n",
    "num = int(input(\"Enter a  number: \"))             #condition-->range>1\n",
    "for i in range(2,num+1):                          #updation-->i=i+1\n",
    "        fact*= i                                  #statement-->fact=fact*i\n",
    "print(fact)\n"
   ]
  },
  {
   "cell_type": "code",
   "execution_count": 7,
   "id": "baa49895-78c3-41b0-894c-00a7697e137b",
   "metadata": {},
   "outputs": [
    {
     "name": "stdout",
     "output_type": "stream",
     "text": [
      "5040\n"
     ]
    }
   ],
   "source": [
    "def fun(i):\n",
    "    if i==1:\n",
    "        return 1\n",
    "    return i*fun(i-1)\n",
    "fact =fun(7)\n",
    "print(fact)"
   ]
  },
  {
   "cell_type": "code",
   "execution_count": null,
   "id": "5eee6e9e-8b5b-4edd-94b3-818375edad39",
   "metadata": {},
   "outputs": [],
   "source": [
    "def fib(i):\n",
    "    if i==0:\n",
    "        return 0\n",
    "    elif i==1:\n",
    "        return 1\n",
    "    else:\n",
    "        return fib((i-1)+fib(i-2))\n",
    "fib =fib(5)\n",
    "print(fib)"
   ]
  },
  {
   "cell_type": "code",
   "execution_count": 30,
   "id": "0f2f7e72-ead1-4ec0-93e4-646482ec5f94",
   "metadata": {},
   "outputs": [
    {
     "name": "stdout",
     "output_type": "stream",
     "text": [
      "8\n"
     ]
    }
   ],
   "source": [
    "def fib(i):\n",
    "    if i == 0:\n",
    "        return 0\n",
    "    elif i == 1:\n",
    "        return 1\n",
    "    else:\n",
    "        return fib(i-1) + fib(i-2)\n",
    "fib = fib(6)\n",
    "print(fib)\n",
    "\n",
    "\n"
   ]
  },
  {
   "cell_type": "markdown",
   "id": "bf52ba0a-3cc1-4170-af34-b5c9dc8ca6e5",
   "metadata": {},
   "source": [
    "#quick sort-->can select any element and put it anywhere\n",
    "low=0\n",
    "high=len(ar)-1\n",
    "i=low\n",
    "j=low-1\n",
    "pe=4(ex)\n",
    "if(pe>ar[i])\n",
    "j=j+1\n",
    "ar[j],ar[i]=ar[i] ar[j]"
   ]
  },
  {
   "cell_type": "code",
   "execution_count": 38,
   "id": "452b0c60-902c-4a95-8992-c4c6f97176aa",
   "metadata": {},
   "outputs": [
    {
     "name": "stdout",
     "output_type": "stream",
     "text": [
      "[2, 3, 4, 8, 9, 5, 1, 6, 7]\n"
     ]
    }
   ],
   "source": [
    "def findpi(ar,low,high):\n",
    "    pe=ar[high]\n",
    "    j=low-1\n",
    "    for i in range(low,high):\n",
    "         if pe>ar[i]:\n",
    "            j+=1\n",
    "         ar[i],ar[j]=ar[j],ar[i]\n",
    "    ar[high],ar[j+1]=ar[j+1],ar[high]    \n",
    "    return j+1    #piviot index\n",
    "\n",
    "def quicksort(ar,low,high):\n",
    "    if low<high:\n",
    "        pi=findpi(ar,low,high)\n",
    "        quicksort(ar,low,pi-1)\n",
    "        quicksort(ar,pi+1,high)\n",
    "#main\n",
    "ar=[3,5,7,2,4,8,1,9,6]\n",
    "quicksort(ar,0,len(ar)-1)\n",
    "print(ar)"
   ]
  },
  {
   "cell_type": "code",
   "execution_count": 44,
   "id": "46aaf23f-19f8-45d9-ac3b-61a4ecfd3c94",
   "metadata": {},
   "outputs": [
    {
     "name": "stdout",
     "output_type": "stream",
     "text": [
      "[3, 5, 7, 2, 4, 8, 1, 9, 6]\n",
      "[3, 5, 2, 4, 1, 6, 7, 9, 8]\n",
      "[1, 5, 2, 4, 3, 6, 7, 9, 8]\n",
      "[1, 2, 3, 4, 5, 6, 7, 9, 8]\n",
      "[1, 2, 3, 4, 5, 6, 7, 9, 8]\n",
      "[1, 2, 3, 4, 5, 6, 7, 8, 9]\n"
     ]
    }
   ],
   "source": [
    "def findpi(ar,low,high):\n",
    "    pe=ar[high]\n",
    "    print(ar)\n",
    "    j=low-1\n",
    "    for i in range(low,high):\n",
    "         if pe>ar[i]:\n",
    "            j+=1\n",
    "            ar[i],ar[j]=ar[j],ar[i]\n",
    "    ar[high],ar[j+1]=ar[j+1],ar[high]    \n",
    "    return j+1                     \n",
    "\n",
    "def quicksort(ar,low,high):\n",
    "    if low < high:\n",
    "        pi = findpi(ar,low,high)              \n",
    "        quicksort(ar,low,pi-1)\n",
    "        quicksort(ar,pi+1,high)\n",
    "#main\n",
    "ar = [3,5,7,2,4,8,1,9,6]                       #piviot is 6\n",
    "quicksort(ar,0,len(ar)-1)\n",
    "print(ar)"
   ]
  },
  {
   "cell_type": "code",
   "execution_count": 1,
   "id": "8800004b-10dd-4a43-97d7-fc7a9b567dd3",
   "metadata": {},
   "outputs": [
    {
     "name": "stdout",
     "output_type": "stream",
     "text": [
      "A= <__main__.node object at 0x00000233F44A9F40>\n",
      "B= <__main__.node object at 0x00000233F5A12D50>\n",
      "C= <__main__.node object at 0x00000233F5A12D20>\n",
      "D= <__main__.node object at 0x00000233F5A12DB0>\n",
      "<__main__.node object at 0x00000233F44A9F40> -->\n",
      "<__main__.node object at 0x00000233F5A12D50> -->\n",
      "<__main__.node object at 0x00000233F5A12D20> -->\n",
      "<__main__.node object at 0x00000233F5A12DB0> -->\n"
     ]
    }
   ],
   "source": [
    "#Linked list\n",
    "\n",
    "\n",
    "class node:\n",
    "    def __init__(self,value):              #constructor\n",
    "        self.data=value\n",
    "        self.next=None\n",
    "\n",
    "A=node(\"Apple\")\n",
    "B=node(\"Book\")\n",
    "C=node(\"Cat\")\n",
    "D=node(\"Dog\")\n",
    "\n",
    "head=A\n",
    "head.next=B\n",
    "head.next.next=C\n",
    "head.next.next.next=D\n",
    "\n",
    "print(\"A=\",A)\n",
    "print(\"B=\",B)\n",
    "print(\"C=\",C)\n",
    "print(\"D=\",D)\n",
    "\n",
    "print(head,\"-->\")\n",
    "print(head.next,\"-->\")\n",
    "print(head.next.next,\"-->\")\n",
    "print(head.next.next.next,\"-->\")\n",
    "\n"
   ]
  },
  {
   "cell_type": "code",
   "execution_count": 3,
   "id": "71cd1076-bf9b-42d2-8895-686fdd4ccbf5",
   "metadata": {},
   "outputs": [
    {
     "name": "stdout",
     "output_type": "stream",
     "text": [
      "Node 1 <__main__.node object at 0x00000233F5A5B8F0> 1\n",
      "Node 2 <__main__.node object at 0x00000233F5A5BD10> 2\n",
      "Node 3 <__main__.node object at 0x00000233F4370830> 3\n",
      "Node 4 <__main__.node object at 0x00000233F5A756A0> 4\n"
     ]
    }
   ],
   "source": [
    "class node:\n",
    "    def __init__(self,value):              #constructor\n",
    "        self.data=value\n",
    "        self.next=None\n",
    "\n",
    "head=node(1)\n",
    "head.next=node(2)\n",
    "head.next.next=node(3)\n",
    "head.next.next.next=node(4)\n",
    "\n",
    "print(\"Node 1\",head,head.data)\n",
    "print(\"Node 2\",head.next,head.next.data)\n",
    "print(\"Node 3\",head.next.next,head.next.next.data)\n",
    "print(\"Node 4\",head.next.next.next,head.next.next.next.data)\n",
    "\n",
    "\n"
   ]
  }
 ],
 "metadata": {
  "kernelspec": {
   "display_name": "Python 3 (ipykernel)",
   "language": "python",
   "name": "python3"
  },
  "language_info": {
   "codemirror_mode": {
    "name": "ipython",
    "version": 3
   },
   "file_extension": ".py",
   "mimetype": "text/x-python",
   "name": "python",
   "nbconvert_exporter": "python",
   "pygments_lexer": "ipython3",
   "version": "3.12.3"
  }
 },
 "nbformat": 4,
 "nbformat_minor": 5
}
